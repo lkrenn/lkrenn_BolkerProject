{
 "cells": [
  {
   "cell_type": "markdown",
   "metadata": {},
   "source": [
    "# Progress Report"
   ]
  },
  {
   "cell_type": "markdown",
   "metadata": {},
   "source": [
    "### Finding Data\n",
    "Major macroeconomic data can definitely be found on Bloomberg terminals, but there are a alot of other resources available. The St. Louis Federal Reserve keeps a lot of US macroeconomic data, as well as the IMF, Quandl, Yahoo finance, the European University Institute, the Conference Board, the list goes on and on. \n",
    "\n",
    "I was looking for something that was all-inclusive. Different data from different vendors can be a bit of an annoyance (different units, different ways of measuring), so I was hoping for one standardized, complete set of data for all countries. \n",
    "\n",
    "Fortunately, I found the OECD website and stumbled across the \"Complete "
   ]
  },
  {
   "cell_type": "code",
   "execution_count": null,
   "metadata": {},
   "outputs": [],
   "source": []
  }
 ],
 "metadata": {
  "kernelspec": {
   "display_name": "R",
   "language": "R",
   "name": "ir"
  },
  "language_info": {
   "codemirror_mode": "r",
   "file_extension": ".r",
   "mimetype": "text/x-r-source",
   "name": "R",
   "pygments_lexer": "r",
   "version": "3.5.1"
  }
 },
 "nbformat": 4,
 "nbformat_minor": 2
}
